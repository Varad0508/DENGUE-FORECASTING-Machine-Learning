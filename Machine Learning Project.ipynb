{
 "cells": [
  {
   "cell_type": "markdown",
   "metadata": {},
   "source": [
    "## Dataset Story"
   ]
  },
  {
   "cell_type": "markdown",
   "metadata": {},
   "source": [
    "Data has taken from drivenData.org, it was released as a part of their competition DengAI.\n",
    "Dataset from the competition has 2 cities named Sanjuan and Iquitos.Dengue fever is a mosquito-borne disease that occurs in tropical and sub-tropical parts of the world. In mild cases, symptoms are similar to the flu: fever, rash, and muscle and joint pain. In severe cases, dengue fever can cause severe bleeding, low blood pressure, and even death. Because it is carried by mosquitoes, the transmission dynamics of dengue are related to climate variables such as temperature,humidity and precipitation. An understanding of the relationship between climate and dengue dynamics can improve research initiatives and resource allocation to help fight life-threatening pandemics.\n",
    "\n",
    "Our data contains Climatic information such as precipitation, temperature, humidity for each City and Satellite vegetation. And also, we have total cases of Dengue Affected Cases for the Corresponding Year and Week of the Year.\n"
   ]
  },
  {
   "cell_type": "markdown",
   "metadata": {},
   "source": [
    "## Objectives(Task Definition)"
   ]
  },
  {
   "cell_type": "markdown",
   "metadata": {},
   "source": [
    "\n",
    "1.\tTo predict the number of dengue cases each week (in each location) based on environmental variables describing changes in temperature, precipitation and humidity?\n",
    "2. To model the number of cases reported using the climate data for the two cities over the same period, so that it will be helpful in predicting the spread of this disease\n",
    "\n",
    "- Here input is the environmental variables and output is the prediction of total cases"
   ]
  },
  {
   "cell_type": "markdown",
   "metadata": {},
   "source": [
    "## Link to Dataset"
   ]
  },
  {
   "cell_type": "markdown",
   "metadata": {},
   "source": [
    "- https://www.drivendata.org/competitions/44/dengai-predicting-disease-spread/data/"
   ]
  },
  {
   "cell_type": "markdown",
   "metadata": {},
   "source": [
    "## Problem Description and Features/Columns Information can be found in below link"
   ]
  },
  {
   "cell_type": "markdown",
   "metadata": {},
   "source": [
    "- https://www.drivendata.org/competitions/44/dengai-predicting-disease-spread/page/82/"
   ]
  },
  {
   "cell_type": "markdown",
   "metadata": {},
   "source": [
    "### Tools and infrastructure\n",
    "- Below are the libraries we used and language used is python"
   ]
  },
  {
   "cell_type": "code",
   "execution_count": 1,
   "metadata": {},
   "outputs": [
    {
     "name": "stderr",
     "output_type": "stream",
     "text": [
      "/anaconda3/lib/python3.6/site-packages/h5py/__init__.py:36: FutureWarning: Conversion of the second argument of issubdtype from `float` to `np.floating` is deprecated. In future, it will be treated as `np.float64 == np.dtype(float).type`.\n",
      "  from ._conv import register_converters as _register_converters\n",
      "Using TensorFlow backend.\n"
     ]
    }
   ],
   "source": [
    "import pandas as pd # for data analysis\n",
    "import numpy as np  #for data analysis\n",
    "import io,requests #for requesting to get url\n",
    "import os # listing and managing file path\n",
    "import matplotlib.pyplot as plt # for plotting\n",
    "import seaborn as sb #for data visualization\n",
    "from sklearn.model_selection import  train_test_split\n",
    "from sklearn.preprocessing import StandardScaler\n",
    "from keras import optimizers\n",
    "\n"
   ]
  },
  {
   "cell_type": "markdown",
   "metadata": {},
   "source": [
    "### Fetching the data\n",
    "    "
   ]
  },
  {
   "cell_type": "code",
   "execution_count": 2,
   "metadata": {},
   "outputs": [
    {
     "name": "stdout",
     "output_type": "stream",
     "text": [
      "Shape of dengue_features_train is (1456, 24)\n",
      "Shape of dengue_features_test is (416, 24)\n",
      "Shape of dengue_labels_train is (1456, 4)\n"
     ]
    }
   ],
   "source": [
    "dengue_features_train = pd.read_csv(\"dengue_features_train.csv\")\n",
    "dengue_features_test=pd.read_csv(\"dengue_features_test.csv\")\n",
    "dengue_labels_train=pd.read_csv(\"dengue_labels_train.csv\")\n",
    "\n",
    "### Let's verify the shape of all csv files\n",
    "print(\"Shape of dengue_features_train is\",dengue_features_train.shape)\n",
    "print(\"Shape of dengue_features_test is\",dengue_features_test.shape)\n",
    "print(\"Shape of dengue_labels_train is\",dengue_labels_train.shape)\n",
    "    "
   ]
  },
  {
   "cell_type": "markdown",
   "metadata": {},
   "source": [
    "### Let's join dengue_features_train and dengue_labels_train to get the information of total dengue fever cases and print few random rows of data"
   ]
  },
  {
   "cell_type": "code",
   "execution_count": 3,
   "metadata": {},
   "outputs": [
    {
     "data": {
      "text/html": [
       "<div>\n",
       "<style scoped>\n",
       "    .dataframe tbody tr th:only-of-type {\n",
       "        vertical-align: middle;\n",
       "    }\n",
       "\n",
       "    .dataframe tbody tr th {\n",
       "        vertical-align: top;\n",
       "    }\n",
       "\n",
       "    .dataframe thead th {\n",
       "        text-align: right;\n",
       "    }\n",
       "</style>\n",
       "<table border=\"1\" class=\"dataframe\">\n",
       "  <thead>\n",
       "    <tr style=\"text-align: right;\">\n",
       "      <th></th>\n",
       "      <th>city</th>\n",
       "      <th>year</th>\n",
       "      <th>weekofyear</th>\n",
       "      <th>week_start_date</th>\n",
       "      <th>ndvi_ne</th>\n",
       "      <th>ndvi_nw</th>\n",
       "      <th>ndvi_se</th>\n",
       "      <th>ndvi_sw</th>\n",
       "      <th>precipitation_amt_mm</th>\n",
       "      <th>reanalysis_air_temp_k</th>\n",
       "      <th>...</th>\n",
       "      <th>reanalysis_relative_humidity_percent</th>\n",
       "      <th>reanalysis_sat_precip_amt_mm</th>\n",
       "      <th>reanalysis_specific_humidity_g_per_kg</th>\n",
       "      <th>reanalysis_tdtr_k</th>\n",
       "      <th>station_avg_temp_c</th>\n",
       "      <th>station_diur_temp_rng_c</th>\n",
       "      <th>station_max_temp_c</th>\n",
       "      <th>station_min_temp_c</th>\n",
       "      <th>station_precip_mm</th>\n",
       "      <th>total_cases</th>\n",
       "    </tr>\n",
       "  </thead>\n",
       "  <tbody>\n",
       "    <tr>\n",
       "      <th>222</th>\n",
       "      <td>sj</td>\n",
       "      <td>1994</td>\n",
       "      <td>31</td>\n",
       "      <td>1994-08-06</td>\n",
       "      <td>NaN</td>\n",
       "      <td>0.131100</td>\n",
       "      <td>0.175214</td>\n",
       "      <td>0.112214</td>\n",
       "      <td>26.96</td>\n",
       "      <td>299.575714</td>\n",
       "      <td>...</td>\n",
       "      <td>77.795714</td>\n",
       "      <td>26.96</td>\n",
       "      <td>16.708571</td>\n",
       "      <td>2.214286</td>\n",
       "      <td>28.257143</td>\n",
       "      <td>6.985714</td>\n",
       "      <td>33.3</td>\n",
       "      <td>23.9</td>\n",
       "      <td>48.5</td>\n",
       "      <td>84</td>\n",
       "    </tr>\n",
       "    <tr>\n",
       "      <th>715</th>\n",
       "      <td>sj</td>\n",
       "      <td>2004</td>\n",
       "      <td>5</td>\n",
       "      <td>2004-01-29</td>\n",
       "      <td>-0.053500</td>\n",
       "      <td>-0.108000</td>\n",
       "      <td>0.236257</td>\n",
       "      <td>0.280414</td>\n",
       "      <td>0.00</td>\n",
       "      <td>297.560000</td>\n",
       "      <td>...</td>\n",
       "      <td>75.422857</td>\n",
       "      <td>0.00</td>\n",
       "      <td>14.390000</td>\n",
       "      <td>2.457143</td>\n",
       "      <td>24.628571</td>\n",
       "      <td>6.200000</td>\n",
       "      <td>28.9</td>\n",
       "      <td>20.0</td>\n",
       "      <td>1.8</td>\n",
       "      <td>21</td>\n",
       "    </tr>\n",
       "    <tr>\n",
       "      <th>1010</th>\n",
       "      <td>iq</td>\n",
       "      <td>2001</td>\n",
       "      <td>49</td>\n",
       "      <td>2001-12-03</td>\n",
       "      <td>0.325057</td>\n",
       "      <td>0.226471</td>\n",
       "      <td>0.299257</td>\n",
       "      <td>0.350471</td>\n",
       "      <td>46.86</td>\n",
       "      <td>298.754286</td>\n",
       "      <td>...</td>\n",
       "      <td>87.240000</td>\n",
       "      <td>46.86</td>\n",
       "      <td>17.595714</td>\n",
       "      <td>8.871429</td>\n",
       "      <td>28.425000</td>\n",
       "      <td>11.650000</td>\n",
       "      <td>35.5</td>\n",
       "      <td>21.2</td>\n",
       "      <td>23.1</td>\n",
       "      <td>1</td>\n",
       "    </tr>\n",
       "    <tr>\n",
       "      <th>1292</th>\n",
       "      <td>iq</td>\n",
       "      <td>2007</td>\n",
       "      <td>19</td>\n",
       "      <td>2007-05-07</td>\n",
       "      <td>0.158257</td>\n",
       "      <td>0.162286</td>\n",
       "      <td>0.183071</td>\n",
       "      <td>0.232271</td>\n",
       "      <td>89.15</td>\n",
       "      <td>296.905714</td>\n",
       "      <td>...</td>\n",
       "      <td>95.037143</td>\n",
       "      <td>89.15</td>\n",
       "      <td>17.611429</td>\n",
       "      <td>9.357143</td>\n",
       "      <td>28.100000</td>\n",
       "      <td>9.200000</td>\n",
       "      <td>33.5</td>\n",
       "      <td>21.5</td>\n",
       "      <td>38.1</td>\n",
       "      <td>4</td>\n",
       "    </tr>\n",
       "    <tr>\n",
       "      <th>1230</th>\n",
       "      <td>iq</td>\n",
       "      <td>2006</td>\n",
       "      <td>8</td>\n",
       "      <td>2006-02-26</td>\n",
       "      <td>0.262114</td>\n",
       "      <td>0.124800</td>\n",
       "      <td>0.215357</td>\n",
       "      <td>0.144786</td>\n",
       "      <td>23.44</td>\n",
       "      <td>298.938571</td>\n",
       "      <td>...</td>\n",
       "      <td>86.031429</td>\n",
       "      <td>23.44</td>\n",
       "      <td>17.605714</td>\n",
       "      <td>10.785714</td>\n",
       "      <td>28.240000</td>\n",
       "      <td>10.640000</td>\n",
       "      <td>34.3</td>\n",
       "      <td>21.3</td>\n",
       "      <td>0.3</td>\n",
       "      <td>28</td>\n",
       "    </tr>\n",
       "    <tr>\n",
       "      <th>175</th>\n",
       "      <td>sj</td>\n",
       "      <td>1993</td>\n",
       "      <td>36</td>\n",
       "      <td>1993-09-10</td>\n",
       "      <td>0.112100</td>\n",
       "      <td>0.068800</td>\n",
       "      <td>0.059600</td>\n",
       "      <td>0.051333</td>\n",
       "      <td>43.26</td>\n",
       "      <td>299.761429</td>\n",
       "      <td>...</td>\n",
       "      <td>80.684286</td>\n",
       "      <td>43.26</td>\n",
       "      <td>17.561429</td>\n",
       "      <td>2.171429</td>\n",
       "      <td>28.428571</td>\n",
       "      <td>7.885714</td>\n",
       "      <td>32.8</td>\n",
       "      <td>23.3</td>\n",
       "      <td>43.4</td>\n",
       "      <td>28</td>\n",
       "    </tr>\n",
       "    <tr>\n",
       "      <th>316</th>\n",
       "      <td>sj</td>\n",
       "      <td>1996</td>\n",
       "      <td>22</td>\n",
       "      <td>1996-05-27</td>\n",
       "      <td>0.099850</td>\n",
       "      <td>0.106600</td>\n",
       "      <td>0.140986</td>\n",
       "      <td>0.108786</td>\n",
       "      <td>68.06</td>\n",
       "      <td>299.441429</td>\n",
       "      <td>...</td>\n",
       "      <td>82.751429</td>\n",
       "      <td>68.06</td>\n",
       "      <td>17.660000</td>\n",
       "      <td>2.814286</td>\n",
       "      <td>28.114286</td>\n",
       "      <td>6.914286</td>\n",
       "      <td>33.3</td>\n",
       "      <td>23.3</td>\n",
       "      <td>9.4</td>\n",
       "      <td>4</td>\n",
       "    </tr>\n",
       "    <tr>\n",
       "      <th>946</th>\n",
       "      <td>iq</td>\n",
       "      <td>2000</td>\n",
       "      <td>36</td>\n",
       "      <td>2000-09-09</td>\n",
       "      <td>0.295586</td>\n",
       "      <td>0.295683</td>\n",
       "      <td>0.312214</td>\n",
       "      <td>0.265929</td>\n",
       "      <td>23.12</td>\n",
       "      <td>300.802857</td>\n",
       "      <td>...</td>\n",
       "      <td>57.787143</td>\n",
       "      <td>23.12</td>\n",
       "      <td>12.652857</td>\n",
       "      <td>14.900000</td>\n",
       "      <td>28.366667</td>\n",
       "      <td>12.900000</td>\n",
       "      <td>35.8</td>\n",
       "      <td>21.7</td>\n",
       "      <td>56.9</td>\n",
       "      <td>1</td>\n",
       "    </tr>\n",
       "    <tr>\n",
       "      <th>785</th>\n",
       "      <td>sj</td>\n",
       "      <td>2005</td>\n",
       "      <td>22</td>\n",
       "      <td>2005-06-04</td>\n",
       "      <td>-0.014300</td>\n",
       "      <td>-0.004475</td>\n",
       "      <td>0.177800</td>\n",
       "      <td>0.146757</td>\n",
       "      <td>84.78</td>\n",
       "      <td>300.840000</td>\n",
       "      <td>...</td>\n",
       "      <td>82.630000</td>\n",
       "      <td>84.78</td>\n",
       "      <td>19.207143</td>\n",
       "      <td>2.900000</td>\n",
       "      <td>28.842857</td>\n",
       "      <td>6.342857</td>\n",
       "      <td>34.4</td>\n",
       "      <td>25.0</td>\n",
       "      <td>23.9</td>\n",
       "      <td>10</td>\n",
       "    </tr>\n",
       "    <tr>\n",
       "      <th>467</th>\n",
       "      <td>sj</td>\n",
       "      <td>1999</td>\n",
       "      <td>16</td>\n",
       "      <td>1999-04-23</td>\n",
       "      <td>0.086900</td>\n",
       "      <td>0.039650</td>\n",
       "      <td>0.190786</td>\n",
       "      <td>0.115386</td>\n",
       "      <td>0.00</td>\n",
       "      <td>299.254286</td>\n",
       "      <td>...</td>\n",
       "      <td>75.390000</td>\n",
       "      <td>0.00</td>\n",
       "      <td>15.868571</td>\n",
       "      <td>3.200000</td>\n",
       "      <td>26.914286</td>\n",
       "      <td>7.485714</td>\n",
       "      <td>32.2</td>\n",
       "      <td>22.8</td>\n",
       "      <td>9.2</td>\n",
       "      <td>17</td>\n",
       "    </tr>\n",
       "  </tbody>\n",
       "</table>\n",
       "<p>10 rows × 25 columns</p>\n",
       "</div>"
      ],
      "text/plain": [
       "     city  year  weekofyear week_start_date   ndvi_ne   ndvi_nw   ndvi_se  \\\n",
       "222    sj  1994          31      1994-08-06       NaN  0.131100  0.175214   \n",
       "715    sj  2004           5      2004-01-29 -0.053500 -0.108000  0.236257   \n",
       "1010   iq  2001          49      2001-12-03  0.325057  0.226471  0.299257   \n",
       "1292   iq  2007          19      2007-05-07  0.158257  0.162286  0.183071   \n",
       "1230   iq  2006           8      2006-02-26  0.262114  0.124800  0.215357   \n",
       "175    sj  1993          36      1993-09-10  0.112100  0.068800  0.059600   \n",
       "316    sj  1996          22      1996-05-27  0.099850  0.106600  0.140986   \n",
       "946    iq  2000          36      2000-09-09  0.295586  0.295683  0.312214   \n",
       "785    sj  2005          22      2005-06-04 -0.014300 -0.004475  0.177800   \n",
       "467    sj  1999          16      1999-04-23  0.086900  0.039650  0.190786   \n",
       "\n",
       "       ndvi_sw  precipitation_amt_mm  reanalysis_air_temp_k     ...       \\\n",
       "222   0.112214                 26.96             299.575714     ...        \n",
       "715   0.280414                  0.00             297.560000     ...        \n",
       "1010  0.350471                 46.86             298.754286     ...        \n",
       "1292  0.232271                 89.15             296.905714     ...        \n",
       "1230  0.144786                 23.44             298.938571     ...        \n",
       "175   0.051333                 43.26             299.761429     ...        \n",
       "316   0.108786                 68.06             299.441429     ...        \n",
       "946   0.265929                 23.12             300.802857     ...        \n",
       "785   0.146757                 84.78             300.840000     ...        \n",
       "467   0.115386                  0.00             299.254286     ...        \n",
       "\n",
       "      reanalysis_relative_humidity_percent  reanalysis_sat_precip_amt_mm  \\\n",
       "222                              77.795714                         26.96   \n",
       "715                              75.422857                          0.00   \n",
       "1010                             87.240000                         46.86   \n",
       "1292                             95.037143                         89.15   \n",
       "1230                             86.031429                         23.44   \n",
       "175                              80.684286                         43.26   \n",
       "316                              82.751429                         68.06   \n",
       "946                              57.787143                         23.12   \n",
       "785                              82.630000                         84.78   \n",
       "467                              75.390000                          0.00   \n",
       "\n",
       "      reanalysis_specific_humidity_g_per_kg  reanalysis_tdtr_k  \\\n",
       "222                               16.708571           2.214286   \n",
       "715                               14.390000           2.457143   \n",
       "1010                              17.595714           8.871429   \n",
       "1292                              17.611429           9.357143   \n",
       "1230                              17.605714          10.785714   \n",
       "175                               17.561429           2.171429   \n",
       "316                               17.660000           2.814286   \n",
       "946                               12.652857          14.900000   \n",
       "785                               19.207143           2.900000   \n",
       "467                               15.868571           3.200000   \n",
       "\n",
       "      station_avg_temp_c  station_diur_temp_rng_c  station_max_temp_c  \\\n",
       "222            28.257143                 6.985714                33.3   \n",
       "715            24.628571                 6.200000                28.9   \n",
       "1010           28.425000                11.650000                35.5   \n",
       "1292           28.100000                 9.200000                33.5   \n",
       "1230           28.240000                10.640000                34.3   \n",
       "175            28.428571                 7.885714                32.8   \n",
       "316            28.114286                 6.914286                33.3   \n",
       "946            28.366667                12.900000                35.8   \n",
       "785            28.842857                 6.342857                34.4   \n",
       "467            26.914286                 7.485714                32.2   \n",
       "\n",
       "      station_min_temp_c  station_precip_mm  total_cases  \n",
       "222                 23.9               48.5           84  \n",
       "715                 20.0                1.8           21  \n",
       "1010                21.2               23.1            1  \n",
       "1292                21.5               38.1            4  \n",
       "1230                21.3                0.3           28  \n",
       "175                 23.3               43.4           28  \n",
       "316                 23.3                9.4            4  \n",
       "946                 21.7               56.9            1  \n",
       "785                 25.0               23.9           10  \n",
       "467                 22.8                9.2           17  \n",
       "\n",
       "[10 rows x 25 columns]"
      ]
     },
     "execution_count": 3,
     "metadata": {},
     "output_type": "execute_result"
    }
   ],
   "source": [
    "data = pd.merge(dengue_features_train, dengue_labels_train, on=['city','year','weekofyear'])\n",
    "data.sample(10)"
   ]
  },
  {
   "cell_type": "markdown",
   "metadata": {},
   "source": [
    "### Data Cleaning "
   ]
  },
  {
   "cell_type": "code",
   "execution_count": 4,
   "metadata": {},
   "outputs": [
    {
     "name": "stdout",
     "output_type": "stream",
     "text": [
      "city                                     category\n",
      "year                                     category\n",
      "weekofyear                               category\n",
      "reanalysis_precip_amt_kg_per_m2           float64\n",
      "reanalysis_specific_humidity_g_per_kg     float64\n",
      "reanalysis_avg_temp_k                     float64\n",
      "reanalysis_max_air_temp_k                 float64\n",
      "reanalysis_min_air_temp_k                 float64\n",
      "total_cases                                 int64\n",
      "dtype: object\n"
     ]
    }
   ],
   "source": [
    "### We are interested in the few columns as we mentioned we are interested in climatic variables.\n",
    "data.columns\n",
    "data =data[['city','year','weekofyear','reanalysis_precip_amt_kg_per_m2','reanalysis_specific_humidity_g_per_kg','reanalysis_avg_temp_k',\n",
    "           'reanalysis_max_air_temp_k','reanalysis_min_air_temp_k','total_cases']]\n",
    "\n",
    "### Converting city,year,weekof year to Categorical variables\n",
    "cols=[i for i in data.columns if i in [\"city\",\"year\",\"weekofyear\"]]\n",
    "for col in cols:\n",
    "    data[col]=pd.Categorical(data[col])\n",
    "\n",
    "print(data.dtypes)    "
   ]
  },
  {
   "cell_type": "markdown",
   "metadata": {},
   "source": [
    "### Let's verify if there are any null values."
   ]
  },
  {
   "cell_type": "code",
   "execution_count": 5,
   "metadata": {
    "scrolled": true
   },
   "outputs": [
    {
     "data": {
      "text/html": [
       "<div>\n",
       "<style scoped>\n",
       "    .dataframe tbody tr th:only-of-type {\n",
       "        vertical-align: middle;\n",
       "    }\n",
       "\n",
       "    .dataframe tbody tr th {\n",
       "        vertical-align: top;\n",
       "    }\n",
       "\n",
       "    .dataframe thead th {\n",
       "        text-align: right;\n",
       "    }\n",
       "</style>\n",
       "<table border=\"1\" class=\"dataframe\">\n",
       "  <thead>\n",
       "    <tr style=\"text-align: right;\">\n",
       "      <th></th>\n",
       "      <th>city</th>\n",
       "      <th>year</th>\n",
       "      <th>weekofyear</th>\n",
       "      <th>reanalysis_precip_amt_kg_per_m2</th>\n",
       "      <th>reanalysis_specific_humidity_g_per_kg</th>\n",
       "      <th>reanalysis_avg_temp_k</th>\n",
       "      <th>reanalysis_max_air_temp_k</th>\n",
       "      <th>reanalysis_min_air_temp_k</th>\n",
       "      <th>total_cases</th>\n",
       "    </tr>\n",
       "  </thead>\n",
       "  <tbody>\n",
       "    <tr>\n",
       "      <th>87</th>\n",
       "      <td>sj</td>\n",
       "      <td>1992</td>\n",
       "      <td>1</td>\n",
       "      <td>NaN</td>\n",
       "      <td>NaN</td>\n",
       "      <td>NaN</td>\n",
       "      <td>NaN</td>\n",
       "      <td>NaN</td>\n",
       "      <td>81</td>\n",
       "    </tr>\n",
       "    <tr>\n",
       "      <th>139</th>\n",
       "      <td>sj</td>\n",
       "      <td>1993</td>\n",
       "      <td>53</td>\n",
       "      <td>NaN</td>\n",
       "      <td>NaN</td>\n",
       "      <td>NaN</td>\n",
       "      <td>NaN</td>\n",
       "      <td>NaN</td>\n",
       "      <td>30</td>\n",
       "    </tr>\n",
       "    <tr>\n",
       "      <th>399</th>\n",
       "      <td>sj</td>\n",
       "      <td>1998</td>\n",
       "      <td>1</td>\n",
       "      <td>NaN</td>\n",
       "      <td>NaN</td>\n",
       "      <td>NaN</td>\n",
       "      <td>NaN</td>\n",
       "      <td>NaN</td>\n",
       "      <td>64</td>\n",
       "    </tr>\n",
       "    <tr>\n",
       "      <th>451</th>\n",
       "      <td>sj</td>\n",
       "      <td>1999</td>\n",
       "      <td>53</td>\n",
       "      <td>NaN</td>\n",
       "      <td>NaN</td>\n",
       "      <td>NaN</td>\n",
       "      <td>NaN</td>\n",
       "      <td>NaN</td>\n",
       "      <td>59</td>\n",
       "    </tr>\n",
       "    <tr>\n",
       "      <th>711</th>\n",
       "      <td>sj</td>\n",
       "      <td>2004</td>\n",
       "      <td>1</td>\n",
       "      <td>NaN</td>\n",
       "      <td>NaN</td>\n",
       "      <td>NaN</td>\n",
       "      <td>NaN</td>\n",
       "      <td>NaN</td>\n",
       "      <td>15</td>\n",
       "    </tr>\n",
       "    <tr>\n",
       "      <th>763</th>\n",
       "      <td>sj</td>\n",
       "      <td>2005</td>\n",
       "      <td>53</td>\n",
       "      <td>NaN</td>\n",
       "      <td>NaN</td>\n",
       "      <td>NaN</td>\n",
       "      <td>NaN</td>\n",
       "      <td>NaN</td>\n",
       "      <td>10</td>\n",
       "    </tr>\n",
       "    <tr>\n",
       "      <th>1118</th>\n",
       "      <td>iq</td>\n",
       "      <td>2004</td>\n",
       "      <td>1</td>\n",
       "      <td>NaN</td>\n",
       "      <td>NaN</td>\n",
       "      <td>NaN</td>\n",
       "      <td>NaN</td>\n",
       "      <td>NaN</td>\n",
       "      <td>4</td>\n",
       "    </tr>\n",
       "    <tr>\n",
       "      <th>1170</th>\n",
       "      <td>iq</td>\n",
       "      <td>2005</td>\n",
       "      <td>53</td>\n",
       "      <td>NaN</td>\n",
       "      <td>NaN</td>\n",
       "      <td>NaN</td>\n",
       "      <td>NaN</td>\n",
       "      <td>NaN</td>\n",
       "      <td>9</td>\n",
       "    </tr>\n",
       "    <tr>\n",
       "      <th>1378</th>\n",
       "      <td>iq</td>\n",
       "      <td>2009</td>\n",
       "      <td>1</td>\n",
       "      <td>NaN</td>\n",
       "      <td>NaN</td>\n",
       "      <td>NaN</td>\n",
       "      <td>NaN</td>\n",
       "      <td>NaN</td>\n",
       "      <td>1</td>\n",
       "    </tr>\n",
       "    <tr>\n",
       "      <th>1430</th>\n",
       "      <td>iq</td>\n",
       "      <td>2010</td>\n",
       "      <td>53</td>\n",
       "      <td>NaN</td>\n",
       "      <td>NaN</td>\n",
       "      <td>NaN</td>\n",
       "      <td>NaN</td>\n",
       "      <td>NaN</td>\n",
       "      <td>0</td>\n",
       "    </tr>\n",
       "  </tbody>\n",
       "</table>\n",
       "</div>"
      ],
      "text/plain": [
       "     city  year weekofyear  reanalysis_precip_amt_kg_per_m2  \\\n",
       "87     sj  1992          1                              NaN   \n",
       "139    sj  1993         53                              NaN   \n",
       "399    sj  1998          1                              NaN   \n",
       "451    sj  1999         53                              NaN   \n",
       "711    sj  2004          1                              NaN   \n",
       "763    sj  2005         53                              NaN   \n",
       "1118   iq  2004          1                              NaN   \n",
       "1170   iq  2005         53                              NaN   \n",
       "1378   iq  2009          1                              NaN   \n",
       "1430   iq  2010         53                              NaN   \n",
       "\n",
       "      reanalysis_specific_humidity_g_per_kg  reanalysis_avg_temp_k  \\\n",
       "87                                      NaN                    NaN   \n",
       "139                                     NaN                    NaN   \n",
       "399                                     NaN                    NaN   \n",
       "451                                     NaN                    NaN   \n",
       "711                                     NaN                    NaN   \n",
       "763                                     NaN                    NaN   \n",
       "1118                                    NaN                    NaN   \n",
       "1170                                    NaN                    NaN   \n",
       "1378                                    NaN                    NaN   \n",
       "1430                                    NaN                    NaN   \n",
       "\n",
       "      reanalysis_max_air_temp_k  reanalysis_min_air_temp_k  total_cases  \n",
       "87                          NaN                        NaN           81  \n",
       "139                         NaN                        NaN           30  \n",
       "399                         NaN                        NaN           64  \n",
       "451                         NaN                        NaN           59  \n",
       "711                         NaN                        NaN           15  \n",
       "763                         NaN                        NaN           10  \n",
       "1118                        NaN                        NaN            4  \n",
       "1170                        NaN                        NaN            9  \n",
       "1378                        NaN                        NaN            1  \n",
       "1430                        NaN                        NaN            0  "
      ]
     },
     "execution_count": 5,
     "metadata": {},
     "output_type": "execute_result"
    }
   ],
   "source": [
    "data[data.isnull().any(axis=1)]"
   ]
  },
  {
   "cell_type": "markdown",
   "metadata": {},
   "source": [
    "### we are filling null values using ffill method as it is linear data, it propagates last valid observation forward."
   ]
  },
  {
   "cell_type": "code",
   "execution_count": 6,
   "metadata": {},
   "outputs": [
    {
     "data": {
      "text/html": [
       "<div>\n",
       "<style scoped>\n",
       "    .dataframe tbody tr th:only-of-type {\n",
       "        vertical-align: middle;\n",
       "    }\n",
       "\n",
       "    .dataframe tbody tr th {\n",
       "        vertical-align: top;\n",
       "    }\n",
       "\n",
       "    .dataframe thead th {\n",
       "        text-align: right;\n",
       "    }\n",
       "</style>\n",
       "<table border=\"1\" class=\"dataframe\">\n",
       "  <thead>\n",
       "    <tr style=\"text-align: right;\">\n",
       "      <th></th>\n",
       "      <th>city</th>\n",
       "      <th>year</th>\n",
       "      <th>weekofyear</th>\n",
       "      <th>reanalysis_precip_amt_kg_per_m2</th>\n",
       "      <th>reanalysis_specific_humidity_g_per_kg</th>\n",
       "      <th>reanalysis_avg_temp_k</th>\n",
       "      <th>reanalysis_max_air_temp_k</th>\n",
       "      <th>reanalysis_min_air_temp_k</th>\n",
       "      <th>total_cases</th>\n",
       "    </tr>\n",
       "  </thead>\n",
       "  <tbody>\n",
       "    <tr>\n",
       "      <th>750</th>\n",
       "      <td>sj</td>\n",
       "      <td>2004</td>\n",
       "      <td>40</td>\n",
       "      <td>8.57</td>\n",
       "      <td>17.964286</td>\n",
       "      <td>301.207143</td>\n",
       "      <td>303.6</td>\n",
       "      <td>298.7</td>\n",
       "      <td>13</td>\n",
       "    </tr>\n",
       "    <tr>\n",
       "      <th>55</th>\n",
       "      <td>sj</td>\n",
       "      <td>1991</td>\n",
       "      <td>21</td>\n",
       "      <td>59.30</td>\n",
       "      <td>16.501429</td>\n",
       "      <td>298.457143</td>\n",
       "      <td>300.4</td>\n",
       "      <td>297.0</td>\n",
       "      <td>10</td>\n",
       "    </tr>\n",
       "    <tr>\n",
       "      <th>416</th>\n",
       "      <td>sj</td>\n",
       "      <td>1998</td>\n",
       "      <td>18</td>\n",
       "      <td>11.70</td>\n",
       "      <td>17.231429</td>\n",
       "      <td>299.835714</td>\n",
       "      <td>301.5</td>\n",
       "      <td>298.2</td>\n",
       "      <td>36</td>\n",
       "    </tr>\n",
       "    <tr>\n",
       "      <th>1014</th>\n",
       "      <td>iq</td>\n",
       "      <td>2002</td>\n",
       "      <td>1</td>\n",
       "      <td>109.80</td>\n",
       "      <td>17.618571</td>\n",
       "      <td>297.871429</td>\n",
       "      <td>304.5</td>\n",
       "      <td>292.5</td>\n",
       "      <td>4</td>\n",
       "    </tr>\n",
       "    <tr>\n",
       "      <th>954</th>\n",
       "      <td>iq</td>\n",
       "      <td>2000</td>\n",
       "      <td>44</td>\n",
       "      <td>20.20</td>\n",
       "      <td>16.868571</td>\n",
       "      <td>300.821429</td>\n",
       "      <td>312.2</td>\n",
       "      <td>292.4</td>\n",
       "      <td>0</td>\n",
       "    </tr>\n",
       "    <tr>\n",
       "      <th>1199</th>\n",
       "      <td>iq</td>\n",
       "      <td>2005</td>\n",
       "      <td>29</td>\n",
       "      <td>8.90</td>\n",
       "      <td>14.191429</td>\n",
       "      <td>298.928571</td>\n",
       "      <td>307.7</td>\n",
       "      <td>287.5</td>\n",
       "      <td>5</td>\n",
       "    </tr>\n",
       "    <tr>\n",
       "      <th>1407</th>\n",
       "      <td>iq</td>\n",
       "      <td>2009</td>\n",
       "      <td>30</td>\n",
       "      <td>12.93</td>\n",
       "      <td>15.510000</td>\n",
       "      <td>297.964286</td>\n",
       "      <td>306.7</td>\n",
       "      <td>292.3</td>\n",
       "      <td>0</td>\n",
       "    </tr>\n",
       "    <tr>\n",
       "      <th>1242</th>\n",
       "      <td>iq</td>\n",
       "      <td>2006</td>\n",
       "      <td>20</td>\n",
       "      <td>0.10</td>\n",
       "      <td>12.111429</td>\n",
       "      <td>296.914286</td>\n",
       "      <td>305.6</td>\n",
       "      <td>287.2</td>\n",
       "      <td>7</td>\n",
       "    </tr>\n",
       "    <tr>\n",
       "      <th>301</th>\n",
       "      <td>sj</td>\n",
       "      <td>1996</td>\n",
       "      <td>7</td>\n",
       "      <td>15.45</td>\n",
       "      <td>15.238571</td>\n",
       "      <td>297.685714</td>\n",
       "      <td>299.9</td>\n",
       "      <td>295.0</td>\n",
       "      <td>16</td>\n",
       "    </tr>\n",
       "    <tr>\n",
       "      <th>264</th>\n",
       "      <td>sj</td>\n",
       "      <td>1995</td>\n",
       "      <td>21</td>\n",
       "      <td>17.30</td>\n",
       "      <td>17.412857</td>\n",
       "      <td>299.578571</td>\n",
       "      <td>301.7</td>\n",
       "      <td>297.3</td>\n",
       "      <td>4</td>\n",
       "    </tr>\n",
       "  </tbody>\n",
       "</table>\n",
       "</div>"
      ],
      "text/plain": [
       "     city  year weekofyear  reanalysis_precip_amt_kg_per_m2  \\\n",
       "750    sj  2004         40                             8.57   \n",
       "55     sj  1991         21                            59.30   \n",
       "416    sj  1998         18                            11.70   \n",
       "1014   iq  2002          1                           109.80   \n",
       "954    iq  2000         44                            20.20   \n",
       "1199   iq  2005         29                             8.90   \n",
       "1407   iq  2009         30                            12.93   \n",
       "1242   iq  2006         20                             0.10   \n",
       "301    sj  1996          7                            15.45   \n",
       "264    sj  1995         21                            17.30   \n",
       "\n",
       "      reanalysis_specific_humidity_g_per_kg  reanalysis_avg_temp_k  \\\n",
       "750                               17.964286             301.207143   \n",
       "55                                16.501429             298.457143   \n",
       "416                               17.231429             299.835714   \n",
       "1014                              17.618571             297.871429   \n",
       "954                               16.868571             300.821429   \n",
       "1199                              14.191429             298.928571   \n",
       "1407                              15.510000             297.964286   \n",
       "1242                              12.111429             296.914286   \n",
       "301                               15.238571             297.685714   \n",
       "264                               17.412857             299.578571   \n",
       "\n",
       "      reanalysis_max_air_temp_k  reanalysis_min_air_temp_k  total_cases  \n",
       "750                       303.6                      298.7           13  \n",
       "55                        300.4                      297.0           10  \n",
       "416                       301.5                      298.2           36  \n",
       "1014                      304.5                      292.5            4  \n",
       "954                       312.2                      292.4            0  \n",
       "1199                      307.7                      287.5            5  \n",
       "1407                      306.7                      292.3            0  \n",
       "1242                      305.6                      287.2            7  \n",
       "301                       299.9                      295.0           16  \n",
       "264                       301.7                      297.3            4  "
      ]
     },
     "execution_count": 6,
     "metadata": {},
     "output_type": "execute_result"
    }
   ],
   "source": [
    "data.fillna(method='ffill',inplace=True)\n",
    "data[data.isnull().any(axis=1)]\n",
    "data.sample(10)"
   ]
  },
  {
   "cell_type": "markdown",
   "metadata": {},
   "source": [
    "### Let's see the total cases effected each and every week for the two cities"
   ]
  },
  {
   "cell_type": "code",
   "execution_count": 7,
   "metadata": {},
   "outputs": [
    {
     "name": "stdout",
     "output_type": "stream",
     "text": [
      "count    1456.000000\n",
      "mean       24.675137\n",
      "std        43.596000\n",
      "min         0.000000\n",
      "25%         5.000000\n",
      "50%        12.000000\n",
      "75%        28.000000\n",
      "max       461.000000\n",
      "Name: total_cases, dtype: float64\n"
     ]
    },
    {
     "data": {
      "image/png": "[encoded data removed]",
      "text/plain": [
       "<matplotlib.figure.Figure at 0x1a20747940>"
      ]
     },
     "metadata": {},
     "output_type": "display_data"
    }
   ],
   "source": [
    "### Verifying Summary of the total cases\n",
    "print(data.total_cases.describe())\n",
    "sb.set(style=\"whitegrid\")\n",
    "ax = sb.boxplot(x=data[\"total_cases\"])"
   ]
  },
  {
   "cell_type": "markdown",
   "metadata": {},
   "source": [
    "- We can see that total cases of Dengue per Week have mean value of 24.6, max value as 461 and min value as 0 , From this data we can see that this distribution is highly skewed"
   ]
  },
  {
   "cell_type": "markdown",
   "metadata": {},
   "source": [
    "### Function to display Yearly Pattern of total cases for the given city and Year\n"
   ]
  },
  {
   "cell_type": "code",
   "execution_count": null,
   "metadata": {},
   "outputs": [],
   "source": [
    "def func(city, year, ylim = (0,400)):\n",
    "    data = dengue_labels_train[dengue_labels_train['city'] == city][dengue_labels_train['year'] == year]\n",
    "    data.plot.bar('weekofyear', 'total_cases', legend=False, ylim = ylim,figsize=(75,25),title=\"Yearly Pattern for each week of the year\",\n",
    "                  fontsize=50)"
   ]
  },
  {
   "cell_type": "code",
   "execution_count": null,
   "metadata": {},
   "outputs": [],
   "source": [
    "func('sj', 1998)\n"
   ]
  },
  {
   "cell_type": "code",
   "execution_count": null,
   "metadata": {},
   "outputs": [],
   "source": [
    "func('iq', 2008)"
   ]
  },
  {
   "cell_type": "markdown",
   "metadata": {},
   "source": [
    "### Dividing the data according to cities, splitting train and test data and verifying the total cases summary as per cities"
   ]
  },
  {
   "cell_type": "code",
   "execution_count": 8,
   "metadata": {},
   "outputs": [],
   "source": [
    "sj_X_train=data[data.city==\"sj\"]\n",
    "iq_X_train=data[data.city==\"iq\"]\n",
    "test_size = 0.25\n",
    "seed = 7\n",
    "sj_X_train, sj_X_test = train_test_split(sj_X_train, test_size=test_size, random_state=seed)\n",
    "iq_X_train, iq_X_test = train_test_split(iq_X_train, test_size=test_size, random_state=seed)"
   ]
  },
  {
   "cell_type": "markdown",
   "metadata": {},
   "source": [
    "###  Let's see the total cases effected for sanjuan city"
   ]
  },
  {
   "cell_type": "code",
   "execution_count": 9,
   "metadata": {},
   "outputs": [
    {
     "name": "stdout",
     "output_type": "stream",
     "text": [
      "count    702.000000\n",
      "mean      35.249288\n",
      "std       52.894417\n",
      "min        0.000000\n",
      "25%        9.000000\n",
      "50%       20.000000\n",
      "75%       38.000000\n",
      "max      426.000000\n",
      "Name: total_cases, dtype: float64\n"
     ]
    },
    {
     "data": {
      "image/png": "[encoded data removed]",
      "text/plain": [
       "<matplotlib.figure.Figure at 0x10c8cd630>"
      ]
     },
     "metadata": {},
     "output_type": "display_data"
    }
   ],
   "source": [
    "print(sj_X_train.total_cases.describe())\n",
    "sb.set(style=\"whitegrid\")\n",
    "ax = sb.boxplot(x=sj_X_train[\"total_cases\"])"
   ]
  },
  {
   "cell_type": "markdown",
   "metadata": {},
   "source": [
    "#### We can see that there are so many outliers and mean of the data is 35.24 for train data and median of the data is having 20 cases of sanjuan city "
   ]
  },
  {
   "cell_type": "code",
   "execution_count": 10,
   "metadata": {},
   "outputs": [
    {
     "name": "stdout",
     "output_type": "stream",
     "text": [
      "count    390.000000\n",
      "mean       8.087179\n",
      "std       11.745265\n",
      "min        0.000000\n",
      "25%        1.000000\n",
      "50%        5.000000\n",
      "75%        9.000000\n",
      "max      116.000000\n",
      "Name: total_cases, dtype: float64\n"
     ]
    },
    {
     "data": {
      "image/png": "[encoded data removed]",
      "text/plain": [
       "<matplotlib.figure.Figure at 0x10c95deb8>"
      ]
     },
     "metadata": {},
     "output_type": "display_data"
    }
   ],
   "source": [
    "print(iq_X_train.total_cases.describe())\n",
    "sb.set(style=\"whitegrid\")\n",
    "ax = sb.boxplot(x=iq_X_train[\"total_cases\"])"
   ]
  },
  {
   "cell_type": "markdown",
   "metadata": {},
   "source": [
    "### For iquitos, we can see that total cases are very low when compared to sanjuan city and mean is 8 cases median of the cases is 5."
   ]
  },
  {
   "cell_type": "markdown",
   "metadata": {},
   "source": [
    "### Here target i.e y is total cases so, we divide the data as (X,y) for both cities and for both train and test data."
   ]
  },
  {
   "cell_type": "code",
   "execution_count": 11,
   "metadata": {},
   "outputs": [],
   "source": [
    "sj_Y_train = sj_X_train.total_cases\n",
    "sj_Y_test = sj_X_test.total_cases\n",
    "\n",
    "iq_Y_train = iq_X_train.total_cases\n",
    "iq_Y_test = iq_X_test.total_cases\n",
    "\n"
   ]
  },
  {
   "cell_type": "code",
   "execution_count": 12,
   "metadata": {},
   "outputs": [],
   "source": [
    "sj_X_train = sj_X_train[sj_X_train.columns[1:8]]\n",
    "iq_X_train = iq_X_train[iq_X_train.columns[1:8]]\n",
    "\n",
    "sj_X_test=  sj_X_test[sj_X_test.columns[1:8]]\n",
    "iq_X_test = iq_X_test[iq_X_test.columns[1:8]]\n"
   ]
  },
  {
   "cell_type": "markdown",
   "metadata": {},
   "source": [
    "### Standardizing the data"
   ]
  },
  {
   "cell_type": "code",
   "execution_count": 13,
   "metadata": {},
   "outputs": [],
   "source": [
    "from sklearn.preprocessing import StandardScaler\n",
    "scaler = StandardScaler()\n",
    "sj_X_train[['reanalysis_precip_amt_kg_per_m2','reanalysis_avg_temp_k','reanalysis_max_air_temp_k','reanalysis_min_air_temp_k']]=scaler.fit_transform(sj_X_train[['reanalysis_precip_amt_kg_per_m2','reanalysis_avg_temp_k','reanalysis_max_air_temp_k','reanalysis_min_air_temp_k']])\n",
    "iq_X_train[['reanalysis_precip_amt_kg_per_m2','reanalysis_avg_temp_k','reanalysis_max_air_temp_k','reanalysis_min_air_temp_k']]=scaler.fit_transform(iq_X_train[['reanalysis_precip_amt_kg_per_m2','reanalysis_avg_temp_k','reanalysis_max_air_temp_k','reanalysis_min_air_temp_k']])\n",
    "sj_X_test[['reanalysis_precip_amt_kg_per_m2','reanalysis_avg_temp_k','reanalysis_max_air_temp_k','reanalysis_min_air_temp_k']]=scaler.fit_transform(sj_X_test[['reanalysis_precip_amt_kg_per_m2','reanalysis_avg_temp_k','reanalysis_max_air_temp_k','reanalysis_min_air_temp_k']])\n",
    "iq_X_test[['reanalysis_precip_amt_kg_per_m2','reanalysis_avg_temp_k','reanalysis_max_air_temp_k','reanalysis_min_air_temp_k']]=scaler.fit_transform(iq_X_test[['reanalysis_precip_amt_kg_per_m2','reanalysis_avg_temp_k','reanalysis_max_air_temp_k','reanalysis_min_air_temp_k']])"
   ]
  },
  {
   "cell_type": "markdown",
   "metadata": {},
   "source": [
    "## Negative Binomial Regression"
   ]
  },
  {
   "cell_type": "markdown",
   "metadata": {},
   "source": [
    "### Modelling for sanjuan city"
   ]
  },
  {
   "cell_type": "code",
   "execution_count": 14,
   "metadata": {},
   "outputs": [
    {
     "name": "stdout",
     "output_type": "stream",
     "text": [
      "test error: 14.478632478632479\n",
      "train error: 15.354700854700855\n"
     ]
    },
    {
     "name": "stderr",
     "output_type": "stream",
     "text": [
      "/anaconda3/lib/python3.6/site-packages/statsmodels/compat/pandas.py:56: FutureWarning: The pandas.core.datetools module is deprecated and will be removed in a future version. Please use the pandas.tseries module instead.\n",
      "  from pandas.core import datetools\n"
     ]
    }
   ],
   "source": [
    "formula1 = ' + '.join([str(i) for i in list(sj_X_train.columns)])\n",
    "formula1 = 'y ~ ' + formula1\n",
    "\n",
    "import statsmodels.formula.api as smf\n",
    "import statsmodels.api as sm\n",
    "from sklearn.metrics import mean_absolute_error\n",
    "\n",
    "train_sj = sj_X_train.copy()\n",
    "train_sj['y'] = sj_Y_train\n",
    "test_sj = sj_X_test.copy()\n",
    "\n",
    "model1 = smf.glm(formula=formula1,\n",
    "                data=train_sj,\n",
    "                family=sm.families.NegativeBinomial(alpha=0.01))\n",
    "model1 = model1.fit()\n",
    "model1.summary()\n",
    "predictions_sj = model1.predict(test_sj).astype(int)\n",
    "print (\"test error:\", mean_absolute_error(predictions_sj, sj_Y_test))\n",
    "\n",
    "pred_train_sj = model1.predict(train_sj).astype(int)\n",
    "print (\"train error:\", mean_absolute_error(pred_train_sj, sj_Y_train))"
   ]
  },
  {
   "cell_type": "markdown",
   "metadata": {},
   "source": [
    "### Modelling for iquitos city"
   ]
  },
  {
   "cell_type": "code",
   "execution_count": 15,
   "metadata": {},
   "outputs": [
    {
     "name": "stdout",
     "output_type": "stream",
     "text": [
      "test error: 4.892307692307693\n",
      "train error: 4.574358974358974\n"
     ]
    }
   ],
   "source": [
    "formula2 = ' + '.join([str(i) for i in list(iq_X_train.columns)])\n",
    "formula2 = 'y ~ ' + formula2\n",
    "\n",
    "train_iq = iq_X_train.copy()\n",
    "train_iq['y'] = iq_Y_train\n",
    "test_iq = iq_X_test.copy()\n",
    "\n",
    "model2 = smf.glm(formula=formula2,\n",
    "                data=train_iq,\n",
    "                family=sm.families.NegativeBinomial(alpha=1.5))\n",
    "model2 = model2.fit()\n",
    "model2.summary()\n",
    "\n",
    "predictions_iq = model2.predict(test_iq).astype(int)\n",
    "print (\"test error:\", mean_absolute_error(predictions_iq, iq_Y_test))\n",
    "\n",
    "pred_train_iq = model2.predict(train_iq).astype(int)\n",
    "print (\"train error:\", mean_absolute_error(pred_train_iq, iq_Y_train))"
   ]
  },
  {
   "cell_type": "markdown",
   "metadata": {},
   "source": [
    "### Combined Modelling for both cities"
   ]
  },
  {
   "cell_type": "code",
   "execution_count": 16,
   "metadata": {},
   "outputs": [
    {
     "name": "stdout",
     "output_type": "stream",
     "text": [
      "test error: 11.054945054945055\n",
      "train error: 11.504578754578755\n"
     ]
    }
   ],
   "source": [
    "pred = predictions_iq.append(predictions_sj)\n",
    "true = iq_Y_test.append(sj_Y_test)\n",
    "print (\"test error:\", mean_absolute_error(pred, true))\n",
    "\n",
    "train_pred = pred_train_iq.append(pred_train_sj)\n",
    "train_true = iq_Y_train.append(sj_Y_train)\n",
    "print (\"train error:\", mean_absolute_error(train_pred, train_true))"
   ]
  },
  {
   "cell_type": "code",
   "execution_count": 17,
   "metadata": {},
   "outputs": [
    {
     "data": {
      "text/plain": [
       "(1182     5\n",
       " 1035     9\n",
       " 1262    10\n",
       " 1084     1\n",
       " 951      0\n",
       " 1099     1\n",
       " 1232     8\n",
       " 982      0\n",
       " 1022    20\n",
       " 973      0\n",
       " dtype: int64, 1182     9\n",
       " 1035    13\n",
       " 1262     2\n",
       " 1084     1\n",
       " 951      1\n",
       " 1099     0\n",
       " 1232     8\n",
       " 982      1\n",
       " 1022     7\n",
       " 973      0\n",
       " Name: total_cases, dtype: int64)"
      ]
     },
     "execution_count": 17,
     "metadata": {},
     "output_type": "execute_result"
    }
   ],
   "source": [
    "train_pred[70:80], train_true[70:80]"
   ]
  },
  {
   "cell_type": "code",
   "execution_count": 18,
   "metadata": {},
   "outputs": [
    {
     "data": {
      "text/plain": [
       "24.73992673992674"
      ]
     },
     "execution_count": 18,
     "metadata": {},
     "output_type": "execute_result"
    }
   ],
   "source": [
    "np.mean(train_pred)\n"
   ]
  },
  {
   "cell_type": "code",
   "execution_count": 19,
   "metadata": {},
   "outputs": [
    {
     "data": {
      "text/plain": [
       "25.5485347985348"
      ]
     },
     "execution_count": 19,
     "metadata": {},
     "output_type": "execute_result"
    }
   ],
   "source": [
    "np.mean(train_true)"
   ]
  },
  {
   "cell_type": "code",
   "execution_count": 20,
   "metadata": {},
   "outputs": [
    {
     "data": {
      "text/plain": [
       "23.985557635282877"
      ]
     },
     "execution_count": 20,
     "metadata": {},
     "output_type": "execute_result"
    }
   ],
   "source": [
    "np.mean(abs(train_true - np.mean(train_true)))"
   ]
  },
  {
   "cell_type": "code",
   "execution_count": null,
   "metadata": {},
   "outputs": [],
   "source": []
  },
  {
   "cell_type": "code",
   "execution_count": null,
   "metadata": {},
   "outputs": [],
   "source": []
  },
  {
   "cell_type": "code",
   "execution_count": null,
   "metadata": {},
   "outputs": [],
   "source": []
  },
  {
   "cell_type": "code",
   "execution_count": null,
   "metadata": {},
   "outputs": [],
   "source": []
  },
  {
   "cell_type": "code",
   "execution_count": 26,
   "metadata": {},
   "outputs": [],
   "source": [
    "# example of making predictions for a regression problem\n",
    "from keras.models import Sequential\n",
    "from keras.layers import Dense\n",
    "from sklearn.datasets import make_regression\n",
    "from sklearn.preprocessing import MinMaxScaler\n",
    "from numpy import array\n"
   ]
  },
  {
   "cell_type": "code",
   "execution_count": 27,
   "metadata": {},
   "outputs": [],
   "source": [
    "import pandas as pd\n",
    "import numpy as np\n",
    "from sklearn.preprocessing import LabelEncoder\n",
    "import random\n",
    "from sklearn.ensemble import RandomForestClassifier\n",
    "from sklearn.ensemble import GradientBoostingClassifier"
   ]
  },
  {
   "cell_type": "code",
   "execution_count": null,
   "metadata": {},
   "outputs": [],
   "source": [
    "#X, Y = make_regression(n_samples=len(X), n_features=7, noise=0.1, random_state=1)"
   ]
  },
  {
   "cell_type": "code",
   "execution_count": 28,
   "metadata": {
    "scrolled": true
   },
   "outputs": [
    {
     "name": "stderr",
     "output_type": "stream",
     "text": [
      "/anaconda3/lib/python3.6/site-packages/ipykernel_launcher.py:10: FutureWarning: reshape is deprecated and will raise in a subsequent release. Please use .values.reshape(...) instead\n",
      "  # Remove the CWD from sys.path while we load stuff.\n",
      "/anaconda3/lib/python3.6/site-packages/sklearn/utils/validation.py:475: DataConversionWarning: Data with input dtype int64 was converted to float64 by MinMaxScaler.\n",
      "  warnings.warn(msg, DataConversionWarning)\n",
      "/anaconda3/lib/python3.6/site-packages/ipykernel_launcher.py:12: FutureWarning: reshape is deprecated and will raise in a subsequent release. Please use .values.reshape(...) instead\n",
      "  if sys.path[0] == '':\n"
     ]
    },
    {
     "name": "stdout",
     "output_type": "stream",
     "text": [
      "Train on 491 samples, validate on 211 samples\n",
      "Epoch 1/40\n",
      "491/491 [==============================] - 0s 596us/step - loss: nan - mean_absolute_error: 0.3014 - val_loss: nan - val_mean_absolute_error: 0.4171\n",
      "Epoch 2/40\n",
      "491/491 [==============================] - 0s 114us/step - loss: nan - mean_absolute_error: 0.5289 - val_loss: nan - val_mean_absolute_error: 0.6523\n",
      "Epoch 3/40\n",
      "491/491 [==============================] - 0s 113us/step - loss: nan - mean_absolute_error: 0.7599 - val_loss: nan - val_mean_absolute_error: 0.8812\n",
      "Epoch 4/40\n",
      "491/491 [==============================] - 0s 82us/step - loss: nan - mean_absolute_error: 0.9870 - val_loss: nan - val_mean_absolute_error: 1.1123\n",
      "Epoch 5/40\n",
      "491/491 [==============================] - 0s 108us/step - loss: nan - mean_absolute_error: 1.2223 - val_loss: nan - val_mean_absolute_error: 1.3538\n",
      "Epoch 6/40\n",
      "491/491 [==============================] - 0s 99us/step - loss: nan - mean_absolute_error: 1.4686 - val_loss: nan - val_mean_absolute_error: 1.6101\n",
      "Epoch 7/40\n",
      "491/491 [==============================] - 0s 98us/step - loss: nan - mean_absolute_error: 1.7326 - val_loss: nan - val_mean_absolute_error: 1.8869\n",
      "Epoch 8/40\n",
      "491/491 [==============================] - 0s 155us/step - loss: nan - mean_absolute_error: 2.0192 - val_loss: nan - val_mean_absolute_error: 2.1879\n",
      "Epoch 9/40\n",
      "491/491 [==============================] - 0s 94us/step - loss: nan - mean_absolute_error: 2.3333 - val_loss: nan - val_mean_absolute_error: 2.5210\n",
      "Epoch 10/40\n",
      "491/491 [==============================] - 0s 94us/step - loss: nan - mean_absolute_error: 2.6814 - val_loss: nan - val_mean_absolute_error: 2.8910\n",
      "Epoch 11/40\n",
      "491/491 [==============================] - 0s 89us/step - loss: nan - mean_absolute_error: 3.0701 - val_loss: nan - val_mean_absolute_error: 3.3081\n",
      "Epoch 12/40\n",
      "491/491 [==============================] - 0s 96us/step - loss: nan - mean_absolute_error: 3.5101 - val_loss: nan - val_mean_absolute_error: 3.7788\n",
      "Epoch 13/40\n",
      "491/491 [==============================] - 0s 107us/step - loss: nan - mean_absolute_error: 4.0088 - val_loss: nan - val_mean_absolute_error: 4.3166\n",
      "Epoch 14/40\n",
      "491/491 [==============================] - 0s 86us/step - loss: nan - mean_absolute_error: 4.5808 - val_loss: nan - val_mean_absolute_error: 4.9388\n",
      "Epoch 15/40\n",
      "491/491 [==============================] - 0s 84us/step - loss: nan - mean_absolute_error: 5.2442 - val_loss: nan - val_mean_absolute_error: 5.6574\n",
      "Epoch 16/40\n",
      "491/491 [==============================] - 0s 100us/step - loss: nan - mean_absolute_error: 6.0166 - val_loss: nan - val_mean_absolute_error: 6.5017\n",
      "Epoch 17/40\n",
      "491/491 [==============================] - 0s 93us/step - loss: nan - mean_absolute_error: 6.9244 - val_loss: nan - val_mean_absolute_error: 7.5019\n",
      "Epoch 18/40\n",
      "491/491 [==============================] - 0s 81us/step - loss: nan - mean_absolute_error: 8.0055 - val_loss: nan - val_mean_absolute_error: 8.6958\n",
      "Epoch 19/40\n",
      "491/491 [==============================] - 0s 96us/step - loss: nan - mean_absolute_error: 9.3047 - val_loss: nan - val_mean_absolute_error: 10.1402\n",
      "Epoch 20/40\n",
      "491/491 [==============================] - 0s 104us/step - loss: nan - mean_absolute_error: 10.8893 - val_loss: nan - val_mean_absolute_error: 11.9131\n",
      "Epoch 21/40\n",
      "491/491 [==============================] - 0s 106us/step - loss: nan - mean_absolute_error: 12.8462 - val_loss: nan - val_mean_absolute_error: 14.1223\n",
      "Epoch 22/40\n",
      "491/491 [==============================] - 0s 113us/step - loss: nan - mean_absolute_error: 15.3062 - val_loss: nan - val_mean_absolute_error: 16.9236\n",
      "Epoch 23/40\n",
      "491/491 [==============================] - 0s 107us/step - loss: nan - mean_absolute_error: 18.4543 - val_loss: nan - val_mean_absolute_error: 20.5589\n",
      "Epoch 24/40\n",
      "491/491 [==============================] - 0s 103us/step - loss: nan - mean_absolute_error: 22.5816 - val_loss: nan - val_mean_absolute_error: 25.3679\n",
      "Epoch 25/40\n",
      "491/491 [==============================] - 0s 105us/step - loss: nan - mean_absolute_error: 28.1149 - val_loss: nan - val_mean_absolute_error: 31.9414\n",
      "Epoch 26/40\n",
      "491/491 [==============================] - 0s 105us/step - loss: nan - mean_absolute_error: 35.7698 - val_loss: nan - val_mean_absolute_error: 41.1415\n",
      "Epoch 27/40\n",
      "491/491 [==============================] - 0s 106us/step - loss: nan - mean_absolute_error: 46.7288 - val_loss: nan - val_mean_absolute_error: 54.5474\n",
      "Epoch 28/40\n",
      "491/491 [==============================] - 0s 105us/step - loss: nan - mean_absolute_error: 63.0413 - val_loss: nan - val_mean_absolute_error: 75.1301\n",
      "Epoch 29/40\n",
      "491/491 [==============================] - 0s 112us/step - loss: nan - mean_absolute_error: 88.7172 - val_loss: nan - val_mean_absolute_error: 108.2523\n",
      "Epoch 30/40\n",
      "491/491 [==============================] - 0s 99us/step - loss: nan - mean_absolute_error: 131.5993 - val_loss: nan - val_mean_absolute_error: 165.6232\n",
      "Epoch 31/40\n",
      "491/491 [==============================] - 0s 98us/step - loss: nan - mean_absolute_error: 209.4060 - val_loss: nan - val_mean_absolute_error: 275.1243\n",
      "Epoch 32/40\n",
      "491/491 [==============================] - 0s 98us/step - loss: nan - mean_absolute_error: 366.4276 - val_loss: nan - val_mean_absolute_error: 509.7694\n",
      "Epoch 33/40\n",
      "491/491 [==============================] - 0s 103us/step - loss: nan - mean_absolute_error: 734.1563 - val_loss: nan - val_mean_absolute_error: 1103.2675\n",
      "Epoch 34/40\n",
      "491/491 [==============================] - 0s 109us/step - loss: nan - mean_absolute_error: 1803.2432 - val_loss: nan - val_mean_absolute_error: 3090.1539\n",
      "Epoch 35/40\n",
      "491/491 [==============================] - 0s 96us/step - loss: nan - mean_absolute_error: 6352.9741 - val_loss: nan - val_mean_absolute_error: 13498.4424\n",
      "Epoch 36/40\n",
      "491/491 [==============================] - 0s 86us/step - loss: nan - mean_absolute_error: 48440.2268 - val_loss: nan - val_mean_absolute_error: 166553.6050\n",
      "Epoch 37/40\n",
      "491/491 [==============================] - 0s 112us/step - loss: nan - mean_absolute_error: 11870830.8349 - val_loss: nan - val_mean_absolute_error: 286325548.2085\n",
      "Epoch 38/40\n",
      "491/491 [==============================] - 0s 79us/step - loss: nan - mean_absolute_error: nan - val_loss: nan - val_mean_absolute_error: nan\n",
      "Epoch 39/40\n",
      "491/491 [==============================] - 0s 85us/step - loss: nan - mean_absolute_error: nan - val_loss: nan - val_mean_absolute_error: nan\n",
      "Epoch 40/40\n",
      "491/491 [==============================] - 0s 93us/step - loss: nan - mean_absolute_error: nan - val_loss: nan - val_mean_absolute_error: nan\n"
     ]
    }
   ],
   "source": [
    "#train.dropna(inplace = True)\n",
    "## training\n",
    "# X.shape\n",
    "# train1 = train.values\n",
    "X = sj_X_train.copy()\n",
    "Y = sj_Y_train.copy()\n",
    "\n",
    "scalarX, scalarY = MinMaxScaler(), MinMaxScaler()\n",
    "scalarX.fit(X)\n",
    "scalarY.fit(Y.reshape(len(X),1))\n",
    "X = scalarX.transform(X)\n",
    "Y = scalarY.transform(Y.reshape(len(X),1))\n",
    "\n",
    "model = Sequential()\n",
    "model.add(Dense(50, input_dim=7, kernel_initializer= 'normal',kernel_regularizer= 'l2', activation='elu'))\n",
    "model.add(Dense(40,  activation='elu', kernel_regularizer= 'l2'))\n",
    "model.add(Dense(1))\n",
    "\n",
    "sgd = optimizers.SGD(lr=0.0001, decay=1e-6, momentum=0.9, nesterov=True)\n",
    "model.compile(loss='poisson', optimizer=sgd, metrics=['mae'])\n",
    "hist = model.fit(X, Y, epochs=40, batch_size=20,  verbose=1, validation_split=0.3)"
   ]
  },
  {
   "cell_type": "code",
   "execution_count": 29,
   "metadata": {
    "scrolled": true
   },
   "outputs": [
    {
     "data": {
      "image/png": "[encoded data removed]",
      "text/plain": [
       "<matplotlib.figure.Figure at 0x1a2c74ce80>"
      ]
     },
     "metadata": {},
     "output_type": "display_data"
    }
   ],
   "source": [
    "loss_values = hist.history['loss']\n",
    "val_loss =  hist.history['val_loss']\n",
    "import matplotlib.pyplot as plt\n",
    "plt.plot(loss_values)\n",
    "plt.plot(val_loss)\n",
    "plt.show()"
   ]
  },
  {
   "cell_type": "code",
   "execution_count": null,
   "metadata": {},
   "outputs": [],
   "source": [
    "# make a prediction\n",
    "X_test = sj_X_test\n",
    "y_test = model.predict(sj_X_test)\n",
    "# show the inputs and predicted outputs\n"
   ]
  },
  {
   "cell_type": "code",
   "execution_count": null,
   "metadata": {},
   "outputs": [],
   "source": [
    "sj_X_test=sj_X_test.reset_index()\n",
    "sj_Y_test=sj_Y_test.reset_index()\n",
    "for i in range(len(X_test)):\n",
    "    print(\"Predicted=%s,true=%s\" % (sj_Y_test[i],y_test[i].astype(int)))"
   ]
  },
  {
   "cell_type": "code",
   "execution_count": null,
   "metadata": {},
   "outputs": [],
   "source": []
  },
  {
   "cell_type": "code",
   "execution_count": null,
   "metadata": {},
   "outputs": [],
   "source": []
  },
  {
   "cell_type": "code",
   "execution_count": null,
   "metadata": {},
   "outputs": [],
   "source": []
  },
  {
   "cell_type": "code",
   "execution_count": null,
   "metadata": {},
   "outputs": [],
   "source": []
  },
  {
   "cell_type": "code",
   "execution_count": null,
   "metadata": {},
   "outputs": [],
   "source": []
  },
  {
   "cell_type": "code",
   "execution_count": null,
   "metadata": {},
   "outputs": [],
   "source": []
  },
  {
   "cell_type": "code",
   "execution_count": null,
   "metadata": {},
   "outputs": [],
   "source": []
  }
 ],
 "metadata": {
  "kernelspec": {
   "display_name": "Python 3",
   "language": "python",
   "name": "python3"
  },
  "language_info": {
   "codemirror_mode": {
    "name": "ipython",
    "version": 3
   },
   "file_extension": ".py",
   "mimetype": "text/x-python",
   "name": "python",
   "nbconvert_exporter": "python",
   "pygments_lexer": "ipython3",
   "version": "3.6.4"
  }
 },
 "nbformat": 4,
 "nbformat_minor": 2
}
